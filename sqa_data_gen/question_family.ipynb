{
 "cells": [
  {
   "cell_type": "code",
   "execution_count": 1,
   "metadata": {},
   "outputs": [],
   "source": [
    "import json\n",
    "# install package as follows: pip3 install pattern\n",
    "from pattern import en"
   ]
  },
  {
   "cell_type": "code",
   "execution_count": 2,
   "metadata": {},
   "outputs": [],
   "source": [
    "# structure of question family\n",
    "data = {}\n",
    "data['info'] = []\n",
    "data['questions'] = []\n",
    "\n",
    "question_counter = 0"
   ]
  },
  {
   "cell_type": "markdown",
   "metadata": {},
   "source": [
    "#### Question: how to write and save the programs & constraints in JSON file?"
   ]
  },
  {
   "cell_type": "markdown",
   "metadata": {},
   "source": [
    "# adding question family"
   ]
  },
  {
   "cell_type": "code",
   "execution_count": 3,
   "metadata": {},
   "outputs": [],
   "source": [
    "###\n",
    "\n",
    "# Action: <A1>, <A2>, ... <An>                  # one of 18 actions  \n",
    "# Locomotions: <L1>, <L2>, ... , <Ln>           # one of 5 locomotions\n",
    "# Relations: <R1>, <R2>, ... , <Rn>             # Before, After, Preceding, Following, While\n",
    "# Logic Connectors: <C1>, <C2>, ..., <Cn>       # AND, OR\n",
    "\n",
    "###"
   ]
  },
  {
   "cell_type": "markdown",
   "metadata": {},
   "source": [
    "### 1. Existence and counting"
   ]
  },
  {
   "cell_type": "code",
   "execution_count": 4,
   "metadata": {
    "scrolled": true
   },
   "outputs": [
    {
     "name": "stdout",
     "output_type": "stream",
     "text": [
      "0\n"
     ]
    }
   ],
   "source": [
    "question_i = {}\n",
    "question_i['index'] = question_counter\n",
    "print(question_counter)\n",
    "question_counter += 1\n",
    "\n",
    "question_i['texts'] = [['Does the user <A1>?',[en.PRESENT, 3, en.SINGULAR]],     #(PRESENT, 3, SINGULAR)\n",
    "                       \n",
    "                       ['The user <A1>?',[en.PAST, 3, en.SINGULAR]],  #(PAST, 3, SINGULAR)\n",
    "                       ['If the user <A1>?',[en.PAST, 3, en.SINGULAR]],#(PAST, 3, SINGULAR)\n",
    "                       ['Is it correct to say the user <A1>?',[en.PAST, 3, en.SINGULAR]],     #(PAST, 3, SINGULAR)\n",
    "                       ['Is it the case that the user <A1>?',[en.PAST, 3, en.SINGULAR]],     #(PAST, 3, SINGULAR)\n",
    "                       ['The user <A1>, correct?',[en.PAST, 3, en.SINGULAR]],     #(PAST, 3, SINGULAR)\n",
    "                       ['Confirm if the user <A1>?',[en.PAST, 3, en.SINGULAR]],     #(PAST, 3, SINGULAR)\n",
    "                       ['Is it true that the user <A1>?',[en.PAST, 3, en.SINGULAR]]     #(PAST, 3, SINGULAR)\n",
    "                       \n",
    "                      ]\n",
    "# ## useless to put program and constraints here. \n",
    "# ## They are specified in functional_program.py\n",
    "# ##cannot really define functional program inside Q_families, \"Object of type 'function' is not JSON serializable\n",
    "# question_i['program'] = ['']\n",
    "# question_i['constraints'] = ['']\n",
    "\n",
    "\n",
    "data['questions'].append(question_i)"
   ]
  },
  {
   "cell_type": "code",
   "execution_count": 5,
   "metadata": {},
   "outputs": [
    {
     "name": "stdout",
     "output_type": "stream",
     "text": [
      "1\n"
     ]
    }
   ],
   "source": [
    "question_i = {}\n",
    "question_i['index'] = question_counter\n",
    "print(question_counter)\n",
    "question_counter += 1\n",
    "\n",
    "question_i['texts'] = [ ['How many times does the user <A1>?',[en.PRESENT, 3, en.SINGULAR]],     #(PRESENT, 3, SINGULAR)\n",
    "                        ['What is the number of instances the user <A1>?',[en.PARTICIPLE, 3, en.SINGULAR]],     #(PARTICIPLE, 3, SINGULAR)\n",
    "                       \n",
    "                        ['The user <A1> how many times?',[en.PAST, 3, en.SINGULAR]],     #(PAST, 3, SINGULAR)\n",
    "                        ['How many times can you count the user <A1>?',[en.PARTICIPLE, 3, en.SINGULAR]],     #(PARTICIPLE, 3, SINGULAR)\n",
    "                        ['What number represents the number of instances the user <A1>?',[en.PARTICIPLE, 3, en.SINGULAR]],     #(PARTICIPLE, 3, SINGULAR)\n",
    "                        ['If a person counts how many times the user <A1>, what would the number be?',[en.PARTICIPLE, 3, en.SINGULAR]],     #(PARTICIPLE, 3, SINGULAR)\n",
    "                        ['What is the quantity of instances in which the user <A1>?',[en.PRESENT, 3, en.SINGULAR]],     #(PRESENT, 3, SINGULAR)\n",
    "                        ['Count how many times the user <A1>?',[en.PAST, 3, en.SINGULAR]],     #(PAST, 3, SINGULAR)\n",
    "                        ['How should one quantify the number of instances that the user <A1>?',[en.PAST, 3, en.SINGULAR]]     #(PAST, 3, SINGULAR)\n",
    "\n",
    "                      ]\n",
    "\n",
    "data['questions'].append(question_i)"
   ]
  },
  {
   "cell_type": "code",
   "execution_count": 6,
   "metadata": {},
   "outputs": [
    {
     "name": "stdout",
     "output_type": "stream",
     "text": [
      "2\n"
     ]
    }
   ],
   "source": [
    "question_i = {}\n",
    "question_i['index'] = question_counter\n",
    "print(question_counter)\n",
    "question_counter += 1\n",
    "\n",
    "question_i['texts'] = [['Does the user <A1> [R1] <A2>?',[en.PRESENT, 3, en.SINGULAR],[en.PARTICIPLE, 3, en.SINGULAR]],     #(PRESENT, 3, SINGULAR)(PARTICIPLE, 3, SINGULAR)\n",
    "                       \n",
    "                       ['The user <A1> [R1] <A2>?',[en.PAST, 3, en.SINGULAR],[en.PARTICIPLE, 3, en.SINGULAR]],     #(PAST, 3, SINGULAR)(PARTICIPLE, 3, SINGULAR)\n",
    "                       ['Is it correct to say that the user <A1> [R1] <A2>?',[en.PAST, 3, en.SINGULAR],[en.PARTICIPLE, 3, en.SINGULAR]],     #(PAST, 3, SINGULAR)(PARTICIPLE, 3, SINGULAR)\n",
    "                       ['Is it the case that the user <A1> [R1] <A2>?',[en.PAST, 3, en.SINGULAR],[en.PARTICIPLE, 3, en.SINGULAR]],     #(PAST, 3, SINGULAR)(PARTICIPLE, 3, SINGULAR)\n",
    "                       ['The user <A1> [R1] <A2>, correct?',[en.PAST, 3, en.SINGULAR],[en.PARTICIPLE, 3, en.SINGULAR]],     #(PAST, 3, SINGULAR)(PARTICIPLE, 3, SINGULAR)\n",
    "                       ['Confirm if the user <A1> [R1] <A2>?',[en.PAST, 3, en.SINGULAR],[en.PARTICIPLE, 3, en.SINGULAR]],     #(PAST, 3, SINGULAR)(PARTICIPLE, 3, SINGULAR)\n",
    "                       ['Is it true that the user <A1> [R1] <A2>?',[en.PAST, 3, en.SINGULAR],[en.PARTICIPLE, 3, en.SINGULAR]]     #(PAST, 3, SINGULAR)(PARTICIPLE, 3, SINGULAR)\n",
    "\n",
    "                      ]\n",
    "\n",
    "data['questions'].append(question_i)"
   ]
  },
  {
   "cell_type": "code",
   "execution_count": 7,
   "metadata": {},
   "outputs": [
    {
     "name": "stdout",
     "output_type": "stream",
     "text": [
      "3\n"
     ]
    }
   ],
   "source": [
    "question_i = {}\n",
    "question_i['index'] = question_counter\n",
    "print(question_counter)\n",
    "question_counter += 1\n",
    "\n",
    "question_i['texts'] = [['Does the user <A1> [R1] <A2> [C1] [R2] <A3>?',[en.PRESENT, 3, en.SINGULAR],[en.PARTICIPLE, 3, en.SINGULAR],[en.PARTICIPLE, 3, en.SINGULAR]],     #(PRESENT, 3, SINGULAR)(PARTICIPLE, 3, SINGULAR)\n",
    "                       ['The user <A1> [R1] <A2> [C1] [R2] <A3>?',[en.PAST, 3, en.SINGULAR],[en.PARTICIPLE, 3, en.SINGULAR],[en.PARTICIPLE, 3, en.SINGULAR]],     #(PAST, 3, SINGULAR)(PARTICIPLE, 3, SINGULAR)\n",
    "                       ['Is it correct to say that the user <A1> [R1] <A2> [C1] [R2] <A3>?',[en.PAST, 3, en.SINGULAR],[en.PARTICIPLE, 3, en.SINGULAR],[en.PARTICIPLE, 3, en.SINGULAR]],     #(PAST, 3, SINGULAR)(PARTICIPLE, 3, SINGULAR)\n",
    "                       ['Is it the case that the user <A1> [R1] <A2> [C1] [R2] <A3>?',[en.PAST, 3, en.SINGULAR],[en.PARTICIPLE, 3, en.SINGULAR],[en.PARTICIPLE, 3, en.SINGULAR]],     #(PAST, 3, SINGULAR)(PARTICIPLE, 3, SINGULAR)\n",
    "                       ['The user <A1> [R1] <A2> [C1] [R2] <A3>, correct?',[en.PAST, 3, en.SINGULAR],[en.PARTICIPLE, 3, en.SINGULAR],[en.PARTICIPLE, 3, en.SINGULAR]],     #(PAST, 3, SINGULAR)(PARTICIPLE, 3, SINGULAR)\n",
    "                       ['Confirm if the user <A1> [R1] <A2> [C1] [R2] <A3>.',[en.PAST, 3, en.SINGULAR],[en.PARTICIPLE, 3, en.SINGULAR],[en.PARTICIPLE, 3, en.SINGULAR]],     #(PAST, 3, SINGULAR)(PARTICIPLE, 3, SINGULAR)\n",
    "                       ['Is it true that the user <A1> [R1] <A2> [C1] [R2] <A3>?',[en.PAST, 3, en.SINGULAR],[en.PARTICIPLE, 3, en.SINGULAR],[en.PARTICIPLE, 3, en.SINGULAR]]     #(PAST, 3, SINGULAR)(PARTICIPLE, 3, SINGULAR)\n",
    "                      ]\n",
    "\n",
    "data['questions'].append(question_i)"
   ]
  },
  {
   "cell_type": "code",
   "execution_count": 8,
   "metadata": {},
   "outputs": [
    {
     "name": "stdout",
     "output_type": "stream",
     "text": [
      "4\n"
     ]
    }
   ],
   "source": [
    "question_i = {}\n",
    "question_i['index'] = question_counter\n",
    "print(question_counter)\n",
    "question_counter += 1\n",
    "\n",
    "question_i['texts'] = [['How many times does the user <A1> [R1] <A2>?',[en.PRESENT, 3, en.SINGULAR],[en.PARTICIPLE, 3, en.SINGULAR]],     #(PRESENT, 3, SINGULAR)(PARTICIPLE, 3, SINGULAR)\n",
    "                       ['What is the number of user\\'s <A1> [R1] <A2>?',[en.PARTICIPLE, 3, en.SINGULAR],[en.PARTICIPLE, 3, en.SINGULAR]],     #(PARTICIPLE, 3, SINGULAR)(PARTICIPLE, 3, SINGULAR)\n",
    "                       \n",
    "                       ['The user <A1> [R1] <A2> how many times?',[en.PAST, 3, en.SINGULAR],[en.PARTICIPLE, 3, en.SINGULAR]],     #(PAST, 3, SINGULAR)(PARTICIPLE, 3, SINGULAR)\n",
    "                       ['How many times can you count the user <A1> [R1] <A2>?',[en.PAST, 3, en.SINGULAR],[en.PARTICIPLE, 3, en.SINGULAR]],     #(PAST, 3, SINGULAR)(PARTICIPLE, 3, SINGULAR)\n",
    "                       ['What number represents the number of instances the user <A1> [R1] <A2>?',[en.PAST, 3, en.SINGULAR],[en.PARTICIPLE, 3, en.SINGULAR]],     #(PAST, 3, SINGULAR)(PARTICIPLE, 3, SINGULAR)\n",
    "                       ['If a person counts how many times the user <A1> [R1] <A2>, what would the number be?',[en.PAST, 3, en.SINGULAR],[en.PARTICIPLE, 3, en.SINGULAR]],     #(PAST, 3, SINGULAR)(PARTICIPLE, 3, SINGULAR)\n",
    "                       ['What is the quantity of instances in which the user <A1> [R1] <A2>?',[en.PAST, 3, en.SINGULAR],[en.PARTICIPLE, 3, en.SINGULAR]],     #(PAST, 3, SINGULAR)(PARTICIPLE, 3, SINGULAR)\n",
    "                       ['Count how many times the user <A1> [R1] <A2>?',[en.PAST, 3, en.SINGULAR],[en.PARTICIPLE, 3, en.SINGULAR]],     #(PAST, 3, SINGULAR)(PARTICIPLE, 3, SINGULAR)\n",
    "                       ['How should one quantify the number of instances that the user <A1> [R1] <A2>?',[en.PAST, 3, en.SINGULAR],[en.PARTICIPLE, 3, en.SINGULAR]]     #(PAST, 3, SINGULAR)(PARTICIPLE, 3, SINGULAR)\n",
    "                      ]\n",
    "\n",
    "data['questions'].append(question_i)"
   ]
  },
  {
   "cell_type": "code",
   "execution_count": 9,
   "metadata": {},
   "outputs": [
    {
     "name": "stdout",
     "output_type": "stream",
     "text": [
      "5\n"
     ]
    }
   ],
   "source": [
    "question_i = {}\n",
    "question_i['index'] = question_counter\n",
    "print(question_counter)\n",
    "question_counter += 1\n",
    "\n",
    "question_i['texts'] = [['How many times does the user <A1> [R1] <A2> [C1] [R2] <A3> ?',[en.PRESENT, 3, en.SINGULAR],[en.PARTICIPLE, 3, en.SINGULAR],[en.PARTICIPLE, 3, en.SINGULAR]],     #(PRESENT, 3, SINGULAR)  (PARTICIPLE, 3, SINGULAR)(PARTICIPLE, 3, SINGULAR)\n",
    "                       ['What is the number of user\\'s <A1> [R1] <A2> [C1] [R2] <A3>?',[en.PARTICIPLE, 3, en.SINGULAR],[en.PARTICIPLE, 3, en.SINGULAR],[en.PARTICIPLE, 3, en.SINGULAR]],     #(PARTICIPLE, 3, SINGULAR)\n",
    "                       \n",
    "                       ['The user <A1> [R1] <A2> [C1] [R2] <A3> how many times?',[en.PAST, 3, en.SINGULAR],[en.PARTICIPLE, 3, en.SINGULAR],[en.PARTICIPLE, 3, en.SINGULAR]],     #(PAST, 3, SINGULAR)(PARTICIPLE, 3, SINGULAR)(PARTICIPLE, 3, SINGULAR)\n",
    "                       ['How many times can you count the user <A1> [R1] <A2> [C1] [R2] <A3>?',[en.PAST, 3, en.SINGULAR],[en.PARTICIPLE, 3, en.SINGULAR],[en.PARTICIPLE, 3, en.SINGULAR]],     #(PAST, 3, SINGULAR)(PARTICIPLE, 3, SINGULAR)(PARTICIPLE, 3, SINGULAR)\n",
    "                       ['What number represents the number of instances the user <A1> [R1] <A2> [C1] [R2] <A3>?',[en.PAST, 3, en.SINGULAR],[en.PARTICIPLE, 3, en.SINGULAR],[en.PARTICIPLE, 3, en.SINGULAR]],     #(PAST, 3, SINGULAR)(PARTICIPLE, 3, SINGULAR)(PARTICIPLE, 3, SINGULAR)\n",
    "                       ['If a person counted how many times the user <A1> [R1] <A2> [C1] [R2] <A3>, what would the number be?',[en.PAST, 3, en.SINGULAR],[en.PARTICIPLE, 3, en.SINGULAR],[en.PARTICIPLE, 3, en.SINGULAR]],     #(PAST, 3, SINGULAR)(PARTICIPLE, 3, SINGULAR)(PARTICIPLE, 3, SINGULAR)\n",
    "                       ['What is the quantity of instances in which the user <A1> [R1] <A2> [C1] [R2] <A3>?',[en.PAST, 3, en.SINGULAR],[en.PARTICIPLE, 3, en.SINGULAR],[en.PARTICIPLE, 3, en.SINGULAR]],     #(PAST, 3, SINGULAR)(PARTICIPLE, 3, SINGULAR)(PARTICIPLE, 3, SINGULAR)\n",
    "                       ['Count how many times the user <A1> [R1] <A2> [C1] [R2] <A3>?',[en.PAST, 3, en.SINGULAR],[en.PARTICIPLE, 3, en.SINGULAR],[en.PARTICIPLE, 3, en.SINGULAR]],     #(PAST, 3, SINGULAR)(PARTICIPLE, 3, SINGULAR)(PARTICIPLE, 3, SINGULAR)\n",
    "                       ['How should one quantify the number of instances that the user <A1> [R1] <A2> [C1] [R2] <A3>?',[en.PAST, 3, en.SINGULAR],[en.PARTICIPLE, 3, en.SINGULAR],[en.PARTICIPLE, 3, en.SINGULAR]]     #(PAST, 3, SINGULAR)(PARTICIPLE, 3, SINGULAR)(PARTICIPLE, 3, SINGULAR)\n",
    "                       \n",
    "                      ]\n",
    "\n",
    "data['questions'].append(question_i)"
   ]
  },
  {
   "cell_type": "markdown",
   "metadata": {},
   "source": [
    "### 2. Query action type"
   ]
  },
  {
   "cell_type": "code",
   "execution_count": 10,
   "metadata": {},
   "outputs": [
    {
     "name": "stdout",
     "output_type": "stream",
     "text": [
      "6\n"
     ]
    }
   ],
   "source": [
    "question_i = {}\n",
    "question_i['index'] = question_counter\n",
    "print(question_counter)\n",
    "question_counter += 1\n",
    "\n",
    "question_i['texts'] = [['What does the user do [R1] <A1>?',[en.PARTICIPLE, 3, en.SINGULAR]],     #(PARTICIPLE, 3, SINGULAR)\n",
    "                       \n",
    "                       ['What action does the user do [R1] <A1>?',[en.PARTICIPLE, 3, en.SINGULAR]],     #(PARTICIPLE, 3, SINGULAR)\n",
    "                       ['What characterizes what the user does [R1] <A1>?',[en.PARTICIPLE, 3, en.SINGULAR]],     #(PARTICIPLE, 3, SINGULAR)\n",
    "                       ['What action characterizes the user’s activity [R1] <A1>?',[en.PARTICIPLE, 3, en.SINGULAR]]     #(PARTICIPLE, 3, SINGULAR)\n",
    "\n",
    "                      ]\n",
    "\n",
    "data['questions'].append(question_i)"
   ]
  },
  {
   "cell_type": "code",
   "execution_count": 11,
   "metadata": {},
   "outputs": [
    {
     "name": "stdout",
     "output_type": "stream",
     "text": [
      "7\n"
     ]
    }
   ],
   "source": [
    "question_i = {}\n",
    "question_i['index'] = question_counter\n",
    "print(question_counter)\n",
    "question_counter += 1\n",
    "\n",
    "question_i['texts'] = [['What does the user do [R1] <A1> and [R2] <A2>?',[en.PARTICIPLE, 3, en.SINGULAR],[en.PARTICIPLE, 3, en.SINGULAR]],     #(PARTICIPLE, 3, SINGULAR)\n",
    "                       \n",
    "                       ['What action does the user do [R1] <A1> and [R2] <A2>?',[en.PARTICIPLE, 3, en.SINGULAR],[en.PARTICIPLE, 3, en.SINGULAR]],     #(PARTICIPLE, 3, SINGULAR)\n",
    "                       ['What characterizes what the user does [R1] <A1> and [R2] <A2>?',[en.PARTICIPLE, 3, en.SINGULAR],[en.PARTICIPLE, 3, en.SINGULAR]],     #(PARTICIPLE, 3, SINGULAR)\n",
    "                       ['What action characterizes the user’s activity [R1] <A1> and [R2] <A2>?',[en.PARTICIPLE, 3, en.SINGULAR],[en.PARTICIPLE, 3, en.SINGULAR]]     #(PARTICIPLE, 3, SINGULAR)\n",
    "\n",
    "                      ]\n",
    "\n",
    "data['questions'].append(question_i)"
   ]
  },
  {
   "cell_type": "code",
   "execution_count": null,
   "metadata": {},
   "outputs": [],
   "source": []
  },
  {
   "cell_type": "markdown",
   "metadata": {},
   "source": [
    "### 3. Comparing values"
   ]
  },
  {
   "cell_type": "code",
   "execution_count": 12,
   "metadata": {},
   "outputs": [
    {
     "name": "stdout",
     "output_type": "stream",
     "text": [
      "8\n"
     ]
    }
   ],
   "source": [
    "question_i = {}\n",
    "question_i['index'] = question_counter\n",
    "print(question_counter)\n",
    "question_counter += 1\n",
    "\n",
    "question_i['texts'] = [['Does the user perform the same action right before and after <A1>?',[en.PARTICIPLE, 3, en.SINGULAR]],     #(PARTICIPLE, 3, SINGULAR)\n",
    "                       ['Does the user perform the same action right after and before <A1>?',[en.PARTICIPLE, 3, en.SINGULAR]],     #(PARTICIPLE, 3, SINGULAR)\n",
    "                       \n",
    "                       ['The user performs the same action right before and after <A1>?',[en.PARTICIPLE, 3, en.SINGULAR]],     #(PARTICIPLE, 3, SINGULAR)\n",
    "                       ['Is it correct to say that the user perform the same action right before and after <A1>?',[en.PARTICIPLE, 3, en.SINGULAR]],     #(PARTICIPLE, 3, SINGULAR)\n",
    "                       ['Is it the case that the user performs the same action right before and after <A1>?',[en.PARTICIPLE, 3, en.SINGULAR]],     #(PARTICIPLE, 3, SINGULAR)\n",
    "                       ['The user performs the same action right before and after <A1>?, correct?',[en.PARTICIPLE, 3, en.SINGULAR]],     #(PARTICIPLE, 3, SINGULAR)\n",
    "                       ['Confirm if the user performs the same action right before and after <A1>?',[en.PARTICIPLE, 3, en.SINGULAR]],     #(PARTICIPLE, 3, SINGULAR)\n",
    "                       ['Is it true that the user performs the same action right before and after <A1>?',[en.PARTICIPLE, 3, en.SINGULAR]]     #(PARTICIPLE, 3, SINGULAR)\n",
    "                      ]\n",
    "\n",
    "data['questions'].append(question_i)"
   ]
  },
  {
   "cell_type": "code",
   "execution_count": 13,
   "metadata": {},
   "outputs": [
    {
     "name": "stdout",
     "output_type": "stream",
     "text": [
      "9\n"
     ]
    }
   ],
   "source": [
    "question_i = {}\n",
    "question_i['index'] = question_counter\n",
    "print(question_counter)\n",
    "question_counter += 1\n",
    "\n",
    "question_i['texts'] = [['Does the user perform the same action [R1] <A1> and [R2] <A2>?',[en.PARTICIPLE, 3, en.SINGULAR],[en.PARTICIPLE, 3, en.SINGULAR]],     #(PARTICIPLE, 3, SINGULAR)\n",
    "                       \n",
    "                       ['The user performs the same action [R1] <A1> and [R2] <A2>?',[en.PARTICIPLE, 3, en.SINGULAR],[en.PARTICIPLE, 3, en.SINGULAR]],     #(PARTICIPLE, 3, SINGULAR)\n",
    "                       ['Is it correct to say that the user performs the same action [R1] <A1> and [R2] <A2>?',[en.PARTICIPLE, 3, en.SINGULAR],[en.PARTICIPLE, 3, en.SINGULAR]],     #(PARTICIPLE, 3, SINGULAR)\n",
    "                       ['Is it the case that the user performs the same action [R1] <A1> and [R2] <A2>?',[en.PARTICIPLE, 3, en.SINGULAR],[en.PARTICIPLE, 3, en.SINGULAR]],     #(PARTICIPLE, 3, SINGULAR)\n",
    "                       ['The user performs the same action [R1] <A1> and [R2] <A2>?, correct?',[en.PARTICIPLE, 3, en.SINGULAR],[en.PARTICIPLE, 3, en.SINGULAR]],     #(PARTICIPLE, 3, SINGULAR)\n",
    "                       ['Confirm if the user performs the same action [R1] <A1> and [R2] <A2>?',[en.PARTICIPLE, 3, en.SINGULAR],[en.PARTICIPLE, 3, en.SINGULAR]],     #(PARTICIPLE, 3, SINGULAR)\n",
    "                       ['Is it true that the user performs the same action [R1] <A1> and [R2] <A2>?',[en.PARTICIPLE, 3, en.SINGULAR],[en.PARTICIPLE, 3, en.SINGULAR]]     #(PARTICIPLE, 3, SINGULAR)\n",
    "                       \n",
    "                      ]\n",
    "\n",
    "data['questions'].append(question_i)"
   ]
  },
  {
   "cell_type": "code",
   "execution_count": null,
   "metadata": {},
   "outputs": [],
   "source": []
  },
  {
   "cell_type": "markdown",
   "metadata": {},
   "source": [
    "### 4. Counting"
   ]
  },
  {
   "cell_type": "code",
   "execution_count": 14,
   "metadata": {},
   "outputs": [
    {
     "name": "stdout",
     "output_type": "stream",
     "text": [
      "10\n"
     ]
    }
   ],
   "source": [
    "question_i = {}\n",
    "question_i['index'] = question_counter\n",
    "print(question_counter)\n",
    "question_counter += 1\n",
    "\n",
    "question_i['texts'] = [['Does the user <A1> for the same times before and after <A2>?',[en.PARTICIPLE, 3, en.SINGULAR],[en.PARTICIPLE, 3, en.SINGULAR]],     #(PARTICIPLE, 3, SINGULAR)\n",
    "                       \n",
    "                       ['The user <A1> for the same times before and after <A2>?',[en.PARTICIPLE, 3, en.SINGULAR],[en.PARTICIPLE, 3, en.SINGULAR]],     #(PARTICIPLE, 3, SINGULAR)\n",
    "                       ['Is it correct to say that the user <A1> for the same times before and after <A2>?',[en.PARTICIPLE, 3, en.SINGULAR],[en.PARTICIPLE, 3, en.SINGULAR]],     #(PARTICIPLE, 3, SINGULAR)\n",
    "                       ['Is it the case that the user <A1> for the same times before and after <A2>?',[en.PARTICIPLE, 3, en.SINGULAR],[en.PARTICIPLE, 3, en.SINGULAR]],     #(PARTICIPLE, 3, SINGULAR)\n",
    "                       ['The user <A1> for the same times before and after <A2>, correct?',[en.PARTICIPLE, 3, en.SINGULAR],[en.PARTICIPLE, 3, en.SINGULAR]],     #(PARTICIPLE, 3, SINGULAR)\n",
    "                       ['Confirm if the user <A1> for the same times before and after <A2>?',[en.PARTICIPLE, 3, en.SINGULAR],[en.PARTICIPLE, 3, en.SINGULAR]],     #(PARTICIPLE, 3, SINGULAR)\n",
    "                       ['Is it true that the user <A1> for the same times before and after <A2>?',[en.PARTICIPLE, 3, en.SINGULAR],[en.PARTICIPLE, 3, en.SINGULAR]]     #(PARTICIPLE, 3, SINGULAR)\n",
    "                      ]\n",
    "\n",
    "data['questions'].append(question_i)"
   ]
  },
  {
   "cell_type": "code",
   "execution_count": 15,
   "metadata": {},
   "outputs": [
    {
     "name": "stdout",
     "output_type": "stream",
     "text": [
      "11\n"
     ]
    }
   ],
   "source": [
    "question_i = {}\n",
    "question_i['index'] = question_counter\n",
    "print(question_counter)\n",
    "question_counter += 1\n",
    "\n",
    "question_i['texts'] = [['Does the user <A1> more than <A2>?',[en.PRESENT, 3, en.SINGULAR],[en.PRESENT, 3, en.SINGULAR]],     #(PRESENT, 3, SINGULAR)\n",
    "                       \n",
    "                       ['The user <A1> more than <A2>?',[en.PRESENT, 3, en.SINGULAR],[en.PRESENT, 3, en.SINGULAR]],     #(PRESENT, 3, SINGULAR)\n",
    "                       ['Is it correct to say that the user <A1> more than <A2>?',[en.PRESENT, 3, en.SINGULAR],[en.PRESENT, 3, en.SINGULAR]],     #(PRESENT, 3, SINGULAR)\n",
    "                       ['Is it the case that the user <A1> more than <A2>?',[en.PRESENT, 3, en.SINGULAR],[en.PRESENT, 3, en.SINGULAR]],     #(PRESENT, 3, SINGULAR)\n",
    "                       ['The user <A1> more than <A2>, correct?',[en.PRESENT, 3, en.SINGULAR],[en.PRESENT, 3, en.SINGULAR]],     #(PRESENT, 3, SINGULAR)\n",
    "                       ['Confirm if the user <A1> more than <A2>?',[en.PRESENT, 3, en.SINGULAR],[en.PRESENT, 3, en.SINGULAR]],     #(PRESENT, 3, SINGULAR)\n",
    "                       ['Is it true that the user <A1> more than <A2>?',[en.PRESENT, 3, en.SINGULAR],[en.PRESENT, 3, en.SINGULAR]]     #(PRESENT, 3, SINGULAR)\n",
    "                      ]\n",
    "\n",
    "data['questions'].append(question_i)"
   ]
  },
  {
   "cell_type": "markdown",
   "metadata": {},
   "source": [
    "### 5. While operation"
   ]
  },
  {
   "cell_type": "code",
   "execution_count": 16,
   "metadata": {},
   "outputs": [
    {
     "name": "stdout",
     "output_type": "stream",
     "text": [
      "12\n"
     ]
    }
   ],
   "source": [
    "question_i = {}\n",
    "question_i['index'] = question_counter\n",
    "print(question_counter)\n",
    "question_counter += 1\n",
    "\n",
    "question_i['texts'] = [['What does the user do While he <A1>?',[en.PRESENT, 3, en.SINGULAR]],     #(PRESENT, 3, SINGULAR)\n",
    "                       ['What action does the user perform While he <A1>',[en.PRESENT, 3, en.SINGULAR]],     #(PRESENT, 3, SINGULAR)\n",
    "                       \n",
    "                       ['What is the user doing while he <A1>?',[en.PRESENT, 3, en.SINGULAR]],     #(PRESENT, 3, SINGULAR)\n",
    "                       ['What action is the user doing while he <A1>?',[en.PRESENT, 3, en.SINGULAR]],     #(PRESENT, 3, SINGULAR)\n",
    "                       ['What is the user performing while he <A1>?',[en.PRESENT, 3, en.SINGULAR]],     #(PRESENT, 3, SINGULAR)\n",
    "                       ['What action characterizes the user’s activity while he <A1>?',[en.PRESENT, 3, en.SINGULAR]]     #(PRESENT, 3, SINGULAR)\n",
    "\n",
    "                      ]\n",
    "\n",
    "data['questions'].append(question_i)"
   ]
  },
  {
   "cell_type": "code",
   "execution_count": 17,
   "metadata": {},
   "outputs": [
    {
     "name": "stdout",
     "output_type": "stream",
     "text": [
      "13\n"
     ]
    }
   ],
   "source": [
    "question_i = {}\n",
    "question_i['index'] = question_counter\n",
    "print(question_counter)\n",
    "question_counter += 1\n",
    "\n",
    "question_i['texts'] = [['How many times does the user <A1> While he <A2>?',[en.PRESENT, 3, en.SINGULAR],[en.PRESENT, 3, en.SINGULAR]],     #(PRESENT, 3, SINGULAR)\n",
    "                       ['While he <A2>, How many times does the user <A1>?',[en.PRESENT, 3, en.SINGULAR],[en.PRESENT, 3, en.SINGULAR]],     #(PRESENT, 3, SINGULAR)\n",
    "                       ['What is the number of the user\\'s <A1> While he <A2>?',[en.PRESENT, 3, en.SINGULAR],[en.PRESENT, 3, en.SINGULAR]],     #(PRESENT, 3, SINGULAR)\n",
    "                       \n",
    "                       ['The user <A1> how many times While he <A2>?',[en.PRESENT, 3, en.SINGULAR],[en.PRESENT, 3, en.SINGULAR]],     #(PRESENT, 3, SINGULAR)\n",
    "                       ['How many times can you count the user <A1> While he <A2>?',[en.PRESENT, 3, en.SINGULAR],[en.PRESENT, 3, en.SINGULAR]],     #(PRESENT, 3, SINGULAR)\n",
    "                       ['What number represents the number of instances the user <A1> While he <A2>?',[en.PRESENT, 3, en.SINGULAR],[en.PRESENT, 3, en.SINGULAR]],     #(PRESENT, 3, SINGULAR)\n",
    "                       ['If a person counts how many times the user <A1> While he <A2>?, what would the number be?',[en.PRESENT, 3, en.SINGULAR],[en.PRESENT, 3, en.SINGULAR]],     #(PRESENT, 3, SINGULAR)\n",
    "                       ['What is the quantity of instances in which the user <A1> While he <A2>?',[en.PRESENT, 3, en.SINGULAR],[en.PRESENT, 3, en.SINGULAR]],     #(PRESENT, 3, SINGULAR)\n",
    "                       ['Count how many times the user <A1> While he <A2>?',[en.PRESENT, 3, en.SINGULAR],[en.PRESENT, 3, en.SINGULAR]],     #(PRESENT, 3, SINGULAR)\n",
    "                       ['How should one quantify the number of instances that the user <A1> While he <A2>?',[en.PRESENT, 3, en.SINGULAR],[en.PRESENT, 3, en.SINGULAR]]    #(PRESENT, 3, SINGULAR)\n",
    "                      ]\n",
    "\n",
    "data['questions'].append(question_i)"
   ]
  },
  {
   "cell_type": "markdown",
   "metadata": {},
   "source": [
    "### 6. Time count"
   ]
  },
  {
   "cell_type": "code",
   "execution_count": 18,
   "metadata": {
    "scrolled": true
   },
   "outputs": [
    {
     "name": "stdout",
     "output_type": "stream",
     "text": [
      "14\n"
     ]
    }
   ],
   "source": [
    "question_i = {}\n",
    "question_i['index'] = question_counter\n",
    "print(question_counter)\n",
    "question_counter += 1\n",
    "\n",
    "question_i['texts'] = [['How long does the user <A1>?',[en.PRESENT, 3, en.SINGULAR]],     #(PRESENT, 3, SINGULAR)\n",
    "                       ['What is the total length the user <A1>',[en.PARTICIPLE, 3, en.SINGULAR]],     #(PARTICIPLE, 3, SINGULAR)\n",
    "                       \n",
    "                       ['How much time goes by while the user <A1>?',[en.PRESENT, 3, en.SINGULAR]],     #(PRESENT, 3, SINGULAR)\n",
    "                       ['Quantify the length of the time in which the user <A1>?',[en.PRESENT, 3, en.SINGULAR]],     #(PRESENT, 3, SINGULAR)\n",
    "                       ['What is the duration in which the user <A1>?',[en.PRESENT, 3, en.SINGULAR]]     #(PRESENT, 3, SINGULAR)\n",
    "                      ]\n",
    "\n",
    "data['questions'].append(question_i)"
   ]
  },
  {
   "cell_type": "code",
   "execution_count": 19,
   "metadata": {},
   "outputs": [
    {
     "name": "stdout",
     "output_type": "stream",
     "text": [
      "15\n"
     ]
    }
   ],
   "source": [
    "question_i = {}\n",
    "question_i['index'] = question_counter\n",
    "print(question_counter)\n",
    "question_counter += 1\n",
    "\n",
    "question_i['texts'] = [['How long does the user <A1> [R1] <A2>?',[en.PRESENT, 3, en.SINGULAR],[en.PARTICIPLE, 3, en.SINGULAR]],     #(PRESENT, 3, SINGULAR) (PARTICIPLE, 3, SINGULAR)\n",
    "                       ['What is the total length the user <A1> [R1] <A2>',[en.PRESENT, 3, en.SINGULAR],[en.PARTICIPLE, 3, en.SINGULAR]],     #(PRESENT, 3, SINGULAR) (PARTICIPLE, 3, SINGULAR)\n",
    "                       \n",
    "                       ['How much time goes by while the user <A1> [R1] <A2>?',[en.PRESENT, 3, en.SINGULAR],[en.PARTICIPLE, 3, en.SINGULAR]],     #(PRESENT, 3, SINGULAR) (PARTICIPLE, 3, SINGULAR)\n",
    "                       ['Quantify the length of the time in which the user <A1> [R1] <A2>?',[en.PRESENT, 3, en.SINGULAR],[en.PARTICIPLE, 3, en.SINGULAR]],     #(PRESENT, 3, SINGULAR) (PARTICIPLE, 3, SINGULAR)\n",
    "                       ['What is the duration in which the user <A1> [R1] <A2>?',[en.PRESENT, 3, en.SINGULAR],[en.PARTICIPLE, 3, en.SINGULAR]]     #(PRESENT, 3, SINGULAR) (PARTICIPLE, 3, SINGULAR)\n",
    "\n",
    "                      ]\n",
    "\n",
    "data['questions'].append(question_i)"
   ]
  },
  {
   "cell_type": "markdown",
   "metadata": {},
   "source": [
    "### 7.Others"
   ]
  },
  {
   "cell_type": "code",
   "execution_count": 20,
   "metadata": {},
   "outputs": [
    {
     "data": {
      "text/plain": [
       "'How many actions does the subject perform?........'"
      ]
     },
     "execution_count": 20,
     "metadata": {},
     "output_type": "execute_result"
    }
   ],
   "source": [
    "\"How many actions does the subject perform?........\" "
   ]
  },
  {
   "cell_type": "markdown",
   "metadata": {},
   "source": [
    "# Visualize"
   ]
  },
  {
   "cell_type": "code",
   "execution_count": 21,
   "metadata": {
    "scrolled": false
   },
   "outputs": [
    {
     "data": {
      "text/plain": [
       "{'info': [],\n",
       " 'questions': [{'index': 0,\n",
       "   'texts': [['Does the user <A1>?', ['present', 3, 'singular']],\n",
       "    ['The user <A1>?', ['past', 3, 'singular']],\n",
       "    ['If the user <A1>?', ['past', 3, 'singular']],\n",
       "    ['Is it correct to say the user <A1>?', ['past', 3, 'singular']],\n",
       "    ['Is it the case that the user <A1>?', ['past', 3, 'singular']],\n",
       "    ['The user <A1>, correct?', ['past', 3, 'singular']],\n",
       "    ['Confirm if the user <A1>?', ['past', 3, 'singular']],\n",
       "    ['Is it true that the user <A1>?', ['past', 3, 'singular']]]},\n",
       "  {'index': 1,\n",
       "   'texts': [['How many times does the user <A1>?',\n",
       "     ['present', 3, 'singular']],\n",
       "    ['What is the number of instances the user <A1>?',\n",
       "     ['participle', 3, 'singular']],\n",
       "    ['The user <A1> how many times?', ['past', 3, 'singular']],\n",
       "    ['How many times can you count the user <A1>?',\n",
       "     ['participle', 3, 'singular']],\n",
       "    ['What number represents the number of instances the user <A1>?',\n",
       "     ['participle', 3, 'singular']],\n",
       "    ['If a person counts how many times the user <A1>, what would the number be?',\n",
       "     ['participle', 3, 'singular']],\n",
       "    ['What is the quantity of instances in which the user <A1>?',\n",
       "     ['present', 3, 'singular']],\n",
       "    ['Count how many times the user <A1>?', ['past', 3, 'singular']],\n",
       "    ['How should one quantify the number of instances that the user <A1>?',\n",
       "     ['past', 3, 'singular']]]},\n",
       "  {'index': 2,\n",
       "   'texts': [['Does the user <A1> [R1] <A2>?',\n",
       "     ['present', 3, 'singular'],\n",
       "     ['participle', 3, 'singular']],\n",
       "    ['The user <A1> [R1] <A2>?',\n",
       "     ['past', 3, 'singular'],\n",
       "     ['participle', 3, 'singular']],\n",
       "    ['Is it correct to say that the user <A1> [R1] <A2>?',\n",
       "     ['past', 3, 'singular'],\n",
       "     ['participle', 3, 'singular']],\n",
       "    ['Is it the case that the user <A1> [R1] <A2>?',\n",
       "     ['past', 3, 'singular'],\n",
       "     ['participle', 3, 'singular']],\n",
       "    ['The user <A1> [R1] <A2>, correct?',\n",
       "     ['past', 3, 'singular'],\n",
       "     ['participle', 3, 'singular']],\n",
       "    ['Confirm if the user <A1> [R1] <A2>?',\n",
       "     ['past', 3, 'singular'],\n",
       "     ['participle', 3, 'singular']],\n",
       "    ['Is it true that the user <A1> [R1] <A2>?',\n",
       "     ['past', 3, 'singular'],\n",
       "     ['participle', 3, 'singular']]]},\n",
       "  {'index': 3,\n",
       "   'texts': [['Does the user <A1> [R1] <A2> [C1] [R2] <A3>?',\n",
       "     ['present', 3, 'singular'],\n",
       "     ['participle', 3, 'singular'],\n",
       "     ['participle', 3, 'singular']],\n",
       "    ['The user <A1> [R1] <A2> [C1] [R2] <A3>?',\n",
       "     ['past', 3, 'singular'],\n",
       "     ['participle', 3, 'singular'],\n",
       "     ['participle', 3, 'singular']],\n",
       "    ['Is it correct to say that the user <A1> [R1] <A2> [C1] [R2] <A3>?',\n",
       "     ['past', 3, 'singular'],\n",
       "     ['participle', 3, 'singular'],\n",
       "     ['participle', 3, 'singular']],\n",
       "    ['Is it the case that the user <A1> [R1] <A2> [C1] [R2] <A3>?',\n",
       "     ['past', 3, 'singular'],\n",
       "     ['participle', 3, 'singular'],\n",
       "     ['participle', 3, 'singular']],\n",
       "    ['The user <A1> [R1] <A2> [C1] [R2] <A3>, correct?',\n",
       "     ['past', 3, 'singular'],\n",
       "     ['participle', 3, 'singular'],\n",
       "     ['participle', 3, 'singular']],\n",
       "    ['Confirm if the user <A1> [R1] <A2> [C1] [R2] <A3>.',\n",
       "     ['past', 3, 'singular'],\n",
       "     ['participle', 3, 'singular'],\n",
       "     ['participle', 3, 'singular']],\n",
       "    ['Is it true that the user <A1> [R1] <A2> [C1] [R2] <A3>?',\n",
       "     ['past', 3, 'singular'],\n",
       "     ['participle', 3, 'singular'],\n",
       "     ['participle', 3, 'singular']]]},\n",
       "  {'index': 4,\n",
       "   'texts': [['How many times does the user <A1> [R1] <A2>?',\n",
       "     ['present', 3, 'singular'],\n",
       "     ['participle', 3, 'singular']],\n",
       "    [\"What is the number of user's <A1> [R1] <A2>?\",\n",
       "     ['participle', 3, 'singular'],\n",
       "     ['participle', 3, 'singular']],\n",
       "    ['The user <A1> [R1] <A2> how many times?',\n",
       "     ['past', 3, 'singular'],\n",
       "     ['participle', 3, 'singular']],\n",
       "    ['How many times can you count the user <A1> [R1] <A2>?',\n",
       "     ['past', 3, 'singular'],\n",
       "     ['participle', 3, 'singular']],\n",
       "    ['What number represents the number of instances the user <A1> [R1] <A2>?',\n",
       "     ['past', 3, 'singular'],\n",
       "     ['participle', 3, 'singular']],\n",
       "    ['If a person counts how many times the user <A1> [R1] <A2>, what would the number be?',\n",
       "     ['past', 3, 'singular'],\n",
       "     ['participle', 3, 'singular']],\n",
       "    ['What is the quantity of instances in which the user <A1> [R1] <A2>?',\n",
       "     ['past', 3, 'singular'],\n",
       "     ['participle', 3, 'singular']],\n",
       "    ['Count how many times the user <A1> [R1] <A2>?',\n",
       "     ['past', 3, 'singular'],\n",
       "     ['participle', 3, 'singular']],\n",
       "    ['How should one quantify the number of instances that the user <A1> [R1] <A2>?',\n",
       "     ['past', 3, 'singular'],\n",
       "     ['participle', 3, 'singular']]]},\n",
       "  {'index': 5,\n",
       "   'texts': [['How many times does the user <A1> [R1] <A2> [C1] [R2] <A3> ?',\n",
       "     ['present', 3, 'singular'],\n",
       "     ['participle', 3, 'singular'],\n",
       "     ['participle', 3, 'singular']],\n",
       "    [\"What is the number of user's <A1> [R1] <A2> [C1] [R2] <A3>?\",\n",
       "     ['participle', 3, 'singular'],\n",
       "     ['participle', 3, 'singular'],\n",
       "     ['participle', 3, 'singular']],\n",
       "    ['The user <A1> [R1] <A2> [C1] [R2] <A3> how many times?',\n",
       "     ['past', 3, 'singular'],\n",
       "     ['participle', 3, 'singular'],\n",
       "     ['participle', 3, 'singular']],\n",
       "    ['How many times can you count the user <A1> [R1] <A2> [C1] [R2] <A3>?',\n",
       "     ['past', 3, 'singular'],\n",
       "     ['participle', 3, 'singular'],\n",
       "     ['participle', 3, 'singular']],\n",
       "    ['What number represents the number of instances the user <A1> [R1] <A2> [C1] [R2] <A3>?',\n",
       "     ['past', 3, 'singular'],\n",
       "     ['participle', 3, 'singular'],\n",
       "     ['participle', 3, 'singular']],\n",
       "    ['If a person counted how many times the user <A1> [R1] <A2> [C1] [R2] <A3>, what would the number be?',\n",
       "     ['past', 3, 'singular'],\n",
       "     ['participle', 3, 'singular'],\n",
       "     ['participle', 3, 'singular']],\n",
       "    ['What is the quantity of instances in which the user <A1> [R1] <A2> [C1] [R2] <A3>?',\n",
       "     ['past', 3, 'singular'],\n",
       "     ['participle', 3, 'singular'],\n",
       "     ['participle', 3, 'singular']],\n",
       "    ['Count how many times the user <A1> [R1] <A2> [C1] [R2] <A3>?',\n",
       "     ['past', 3, 'singular'],\n",
       "     ['participle', 3, 'singular'],\n",
       "     ['participle', 3, 'singular']],\n",
       "    ['How should one quantify the number of instances that the user <A1> [R1] <A2> [C1] [R2] <A3>?',\n",
       "     ['past', 3, 'singular'],\n",
       "     ['participle', 3, 'singular'],\n",
       "     ['participle', 3, 'singular']]]},\n",
       "  {'index': 6,\n",
       "   'texts': [['What does the user do [R1] <A1>?',\n",
       "     ['participle', 3, 'singular']],\n",
       "    ['What action does the user do [R1] <A1>?', ['participle', 3, 'singular']],\n",
       "    ['What characterizes what the user does [R1] <A1>?',\n",
       "     ['participle', 3, 'singular']],\n",
       "    ['What action characterizes the user’s activity [R1] <A1>?',\n",
       "     ['participle', 3, 'singular']]]},\n",
       "  {'index': 7,\n",
       "   'texts': [['What does the user do [R1] <A1> and [R2] <A2>?',\n",
       "     ['participle', 3, 'singular'],\n",
       "     ['participle', 3, 'singular']],\n",
       "    ['What action does the user do [R1] <A1> and [R2] <A2>?',\n",
       "     ['participle', 3, 'singular'],\n",
       "     ['participle', 3, 'singular']],\n",
       "    ['What characterizes what the user does [R1] <A1> and [R2] <A2>?',\n",
       "     ['participle', 3, 'singular'],\n",
       "     ['participle', 3, 'singular']],\n",
       "    ['What action characterizes the user’s activity [R1] <A1> and [R2] <A2>?',\n",
       "     ['participle', 3, 'singular'],\n",
       "     ['participle', 3, 'singular']]]},\n",
       "  {'index': 8,\n",
       "   'texts': [['Does the user perform the same action right before and after <A1>?',\n",
       "     ['participle', 3, 'singular']],\n",
       "    ['Does the user perform the same action right after and before <A1>?',\n",
       "     ['participle', 3, 'singular']],\n",
       "    ['The user performs the same action right before and after <A1>?',\n",
       "     ['participle', 3, 'singular']],\n",
       "    ['Is it correct to say that the user perform the same action right before and after <A1>?',\n",
       "     ['participle', 3, 'singular']],\n",
       "    ['Is it the case that the user performs the same action right before and after <A1>?',\n",
       "     ['participle', 3, 'singular']],\n",
       "    ['The user performs the same action right before and after <A1>?, correct?',\n",
       "     ['participle', 3, 'singular']],\n",
       "    ['Confirm if the user performs the same action right before and after <A1>?',\n",
       "     ['participle', 3, 'singular']],\n",
       "    ['Is it true that the user performs the same action right before and after <A1>?',\n",
       "     ['participle', 3, 'singular']]]},\n",
       "  {'index': 9,\n",
       "   'texts': [['Does the user perform the same action [R1] <A1> and [R2] <A2>?',\n",
       "     ['participle', 3, 'singular'],\n",
       "     ['participle', 3, 'singular']],\n",
       "    ['The user performs the same action [R1] <A1> and [R2] <A2>?',\n",
       "     ['participle', 3, 'singular'],\n",
       "     ['participle', 3, 'singular']],\n",
       "    ['Is it correct to say that the user performs the same action [R1] <A1> and [R2] <A2>?',\n",
       "     ['participle', 3, 'singular'],\n",
       "     ['participle', 3, 'singular']],\n",
       "    ['Is it the case that the user performs the same action [R1] <A1> and [R2] <A2>?',\n",
       "     ['participle', 3, 'singular'],\n",
       "     ['participle', 3, 'singular']],\n",
       "    ['The user performs the same action [R1] <A1> and [R2] <A2>?, correct?',\n",
       "     ['participle', 3, 'singular'],\n",
       "     ['participle', 3, 'singular']],\n",
       "    ['Confirm if the user performs the same action [R1] <A1> and [R2] <A2>?',\n",
       "     ['participle', 3, 'singular'],\n",
       "     ['participle', 3, 'singular']],\n",
       "    ['Is it true that the user performs the same action [R1] <A1> and [R2] <A2>?',\n",
       "     ['participle', 3, 'singular'],\n",
       "     ['participle', 3, 'singular']]]},\n",
       "  {'index': 10,\n",
       "   'texts': [['Does the user <A1> for the same times before and after <A2>?',\n",
       "     ['participle', 3, 'singular'],\n",
       "     ['participle', 3, 'singular']],\n",
       "    ['The user <A1> for the same times before and after <A2>?',\n",
       "     ['participle', 3, 'singular'],\n",
       "     ['participle', 3, 'singular']],\n",
       "    ['Is it correct to say that the user <A1> for the same times before and after <A2>?',\n",
       "     ['participle', 3, 'singular'],\n",
       "     ['participle', 3, 'singular']],\n",
       "    ['Is it the case that the user <A1> for the same times before and after <A2>?',\n",
       "     ['participle', 3, 'singular'],\n",
       "     ['participle', 3, 'singular']],\n",
       "    ['The user <A1> for the same times before and after <A2>, correct?',\n",
       "     ['participle', 3, 'singular'],\n",
       "     ['participle', 3, 'singular']],\n",
       "    ['Confirm if the user <A1> for the same times before and after <A2>?',\n",
       "     ['participle', 3, 'singular'],\n",
       "     ['participle', 3, 'singular']],\n",
       "    ['Is it true that the user <A1> for the same times before and after <A2>?',\n",
       "     ['participle', 3, 'singular'],\n",
       "     ['participle', 3, 'singular']]]},\n",
       "  {'index': 11,\n",
       "   'texts': [['Does the user <A1> more than <A2>?',\n",
       "     ['present', 3, 'singular'],\n",
       "     ['present', 3, 'singular']],\n",
       "    ['The user <A1> more than <A2>?',\n",
       "     ['present', 3, 'singular'],\n",
       "     ['present', 3, 'singular']],\n",
       "    ['Is it correct to say that the user <A1> more than <A2>?',\n",
       "     ['present', 3, 'singular'],\n",
       "     ['present', 3, 'singular']],\n",
       "    ['Is it the case that the user <A1> more than <A2>?',\n",
       "     ['present', 3, 'singular'],\n",
       "     ['present', 3, 'singular']],\n",
       "    ['The user <A1> more than <A2>, correct?',\n",
       "     ['present', 3, 'singular'],\n",
       "     ['present', 3, 'singular']],\n",
       "    ['Confirm if the user <A1> more than <A2>?',\n",
       "     ['present', 3, 'singular'],\n",
       "     ['present', 3, 'singular']],\n",
       "    ['Is it true that the user <A1> more than <A2>?',\n",
       "     ['present', 3, 'singular'],\n",
       "     ['present', 3, 'singular']]]},\n",
       "  {'index': 12,\n",
       "   'texts': [['What does the user do While he <A1>?',\n",
       "     ['present', 3, 'singular']],\n",
       "    ['What action does the user perform While he <A1>',\n",
       "     ['present', 3, 'singular']],\n",
       "    ['What is the user doing while he <A1>?', ['present', 3, 'singular']],\n",
       "    ['What action is the user doing while he <A1>?',\n",
       "     ['present', 3, 'singular']],\n",
       "    ['What is the user performing while he <A1>?', ['present', 3, 'singular']],\n",
       "    ['What action characterizes the user’s activity while he <A1>?',\n",
       "     ['present', 3, 'singular']]]},\n",
       "  {'index': 13,\n",
       "   'texts': [['How many times does the user <A1> While he <A2>?',\n",
       "     ['present', 3, 'singular'],\n",
       "     ['present', 3, 'singular']],\n",
       "    ['While he <A2>, How many times does the user <A1>?',\n",
       "     ['present', 3, 'singular'],\n",
       "     ['present', 3, 'singular']],\n",
       "    [\"What is the number of the user's <A1> While he <A2>?\",\n",
       "     ['present', 3, 'singular'],\n",
       "     ['present', 3, 'singular']],\n",
       "    ['The user <A1> how many times While he <A2>?',\n",
       "     ['present', 3, 'singular'],\n",
       "     ['present', 3, 'singular']],\n",
       "    ['How many times can you count the user <A1> While he <A2>?',\n",
       "     ['present', 3, 'singular'],\n",
       "     ['present', 3, 'singular']],\n",
       "    ['What number represents the number of instances the user <A1> While he <A2>?',\n",
       "     ['present', 3, 'singular'],\n",
       "     ['present', 3, 'singular']],\n",
       "    ['If a person counts how many times the user <A1> While he <A2>?, what would the number be?',\n",
       "     ['present', 3, 'singular'],\n",
       "     ['present', 3, 'singular']],\n",
       "    ['What is the quantity of instances in which the user <A1> While he <A2>?',\n",
       "     ['present', 3, 'singular'],\n",
       "     ['present', 3, 'singular']],\n",
       "    ['Count how many times the user <A1> While he <A2>?',\n",
       "     ['present', 3, 'singular'],\n",
       "     ['present', 3, 'singular']],\n",
       "    ['How should one quantify the number of instances that the user <A1> While he <A2>?',\n",
       "     ['present', 3, 'singular'],\n",
       "     ['present', 3, 'singular']]]},\n",
       "  {'index': 14,\n",
       "   'texts': [['How long does the user <A1>?', ['present', 3, 'singular']],\n",
       "    ['What is the total length the user <A1>', ['participle', 3, 'singular']],\n",
       "    ['How much time goes by while the user <A1>?', ['present', 3, 'singular']],\n",
       "    ['Quantify the length of the time in which the user <A1>?',\n",
       "     ['present', 3, 'singular']],\n",
       "    ['What is the duration in which the user <A1>?',\n",
       "     ['present', 3, 'singular']]]},\n",
       "  {'index': 15,\n",
       "   'texts': [['How long does the user <A1> [R1] <A2>?',\n",
       "     ['present', 3, 'singular'],\n",
       "     ['participle', 3, 'singular']],\n",
       "    ['What is the total length the user <A1> [R1] <A2>',\n",
       "     ['present', 3, 'singular'],\n",
       "     ['participle', 3, 'singular']],\n",
       "    ['How much time goes by while the user <A1> [R1] <A2>?',\n",
       "     ['present', 3, 'singular'],\n",
       "     ['participle', 3, 'singular']],\n",
       "    ['Quantify the length of the time in which the user <A1> [R1] <A2>?',\n",
       "     ['present', 3, 'singular'],\n",
       "     ['participle', 3, 'singular']],\n",
       "    ['What is the duration in which the user <A1> [R1] <A2>?',\n",
       "     ['present', 3, 'singular'],\n",
       "     ['participle', 3, 'singular']]]}]}"
      ]
     },
     "execution_count": 21,
     "metadata": {},
     "output_type": "execute_result"
    }
   ],
   "source": [
    "# visualize\n",
    "data"
   ]
  },
  {
   "cell_type": "markdown",
   "metadata": {},
   "source": [
    "# saving to JSON file"
   ]
  },
  {
   "cell_type": "code",
   "execution_count": 22,
   "metadata": {},
   "outputs": [],
   "source": [
    "with open('question_family.json', 'w') as outfile:\n",
    "    json.dump(data, outfile)"
   ]
  },
  {
   "cell_type": "code",
   "execution_count": null,
   "metadata": {},
   "outputs": [],
   "source": []
  },
  {
   "cell_type": "code",
   "execution_count": 23,
   "metadata": {},
   "outputs": [
    {
     "data": {
      "text/plain": [
       "{'info': [],\n",
       " 'questions': [{'index': 0,\n",
       "   'texts': [['Does the user <A1>?', ['present', 3, 'singular']],\n",
       "    ['The user <A1>?', ['past', 3, 'singular']],\n",
       "    ['If the user <A1>?', ['past', 3, 'singular']],\n",
       "    ['Is it correct to say the user <A1>?', ['past', 3, 'singular']],\n",
       "    ['Is it the case that the user <A1>?', ['past', 3, 'singular']],\n",
       "    ['The user <A1>, correct?', ['past', 3, 'singular']],\n",
       "    ['Confirm if the user <A1>?', ['past', 3, 'singular']],\n",
       "    ['Is it true that the user <A1>?', ['past', 3, 'singular']]]},\n",
       "  {'index': 1,\n",
       "   'texts': [['How many times does the user <A1>?',\n",
       "     ['present', 3, 'singular']],\n",
       "    ['What is the number of instances the user <A1>?',\n",
       "     ['participle', 3, 'singular']],\n",
       "    ['The user <A1> how many times?', ['past', 3, 'singular']],\n",
       "    ['How many times can you count the user <A1>?',\n",
       "     ['participle', 3, 'singular']],\n",
       "    ['What number represents the number of instances the user <A1>?',\n",
       "     ['participle', 3, 'singular']],\n",
       "    ['If a person counts how many times the user <A1>, what would the number be?',\n",
       "     ['participle', 3, 'singular']],\n",
       "    ['What is the quantity of instances in which the user <A1>?',\n",
       "     ['present', 3, 'singular']],\n",
       "    ['Count how many times the user <A1>?', ['past', 3, 'singular']],\n",
       "    ['How should one quantify the number of instances that the user <A1>?',\n",
       "     ['past', 3, 'singular']]]},\n",
       "  {'index': 2,\n",
       "   'texts': [['Does the user <A1> [R1] <A2>?',\n",
       "     ['present', 3, 'singular'],\n",
       "     ['participle', 3, 'singular']],\n",
       "    ['The user <A1> [R1] <A2>?',\n",
       "     ['past', 3, 'singular'],\n",
       "     ['participle', 3, 'singular']],\n",
       "    ['Is it correct to say that the user <A1> [R1] <A2>?',\n",
       "     ['past', 3, 'singular'],\n",
       "     ['participle', 3, 'singular']],\n",
       "    ['Is it the case that the user <A1> [R1] <A2>?',\n",
       "     ['past', 3, 'singular'],\n",
       "     ['participle', 3, 'singular']],\n",
       "    ['The user <A1> [R1] <A2>, correct?',\n",
       "     ['past', 3, 'singular'],\n",
       "     ['participle', 3, 'singular']],\n",
       "    ['Confirm if the user <A1> [R1] <A2>?',\n",
       "     ['past', 3, 'singular'],\n",
       "     ['participle', 3, 'singular']],\n",
       "    ['Is it true that the user <A1> [R1] <A2>?',\n",
       "     ['past', 3, 'singular'],\n",
       "     ['participle', 3, 'singular']]]},\n",
       "  {'index': 3,\n",
       "   'texts': [['Does the user <A1> [R1] <A2> [C1] [R2] <A3>?',\n",
       "     ['present', 3, 'singular'],\n",
       "     ['participle', 3, 'singular'],\n",
       "     ['participle', 3, 'singular']],\n",
       "    ['The user <A1> [R1] <A2> [C1] [R2] <A3>?',\n",
       "     ['past', 3, 'singular'],\n",
       "     ['participle', 3, 'singular'],\n",
       "     ['participle', 3, 'singular']],\n",
       "    ['Is it correct to say that the user <A1> [R1] <A2> [C1] [R2] <A3>?',\n",
       "     ['past', 3, 'singular'],\n",
       "     ['participle', 3, 'singular'],\n",
       "     ['participle', 3, 'singular']],\n",
       "    ['Is it the case that the user <A1> [R1] <A2> [C1] [R2] <A3>?',\n",
       "     ['past', 3, 'singular'],\n",
       "     ['participle', 3, 'singular'],\n",
       "     ['participle', 3, 'singular']],\n",
       "    ['The user <A1> [R1] <A2> [C1] [R2] <A3>, correct?',\n",
       "     ['past', 3, 'singular'],\n",
       "     ['participle', 3, 'singular'],\n",
       "     ['participle', 3, 'singular']],\n",
       "    ['Confirm if the user <A1> [R1] <A2> [C1] [R2] <A3>.',\n",
       "     ['past', 3, 'singular'],\n",
       "     ['participle', 3, 'singular'],\n",
       "     ['participle', 3, 'singular']],\n",
       "    ['Is it true that the user <A1> [R1] <A2> [C1] [R2] <A3>?',\n",
       "     ['past', 3, 'singular'],\n",
       "     ['participle', 3, 'singular'],\n",
       "     ['participle', 3, 'singular']]]},\n",
       "  {'index': 4,\n",
       "   'texts': [['How many times does the user <A1> [R1] <A2>?',\n",
       "     ['present', 3, 'singular'],\n",
       "     ['participle', 3, 'singular']],\n",
       "    [\"What is the number of user's <A1> [R1] <A2>?\",\n",
       "     ['participle', 3, 'singular'],\n",
       "     ['participle', 3, 'singular']],\n",
       "    ['The user <A1> [R1] <A2> how many times?',\n",
       "     ['past', 3, 'singular'],\n",
       "     ['participle', 3, 'singular']],\n",
       "    ['How many times can you count the user <A1> [R1] <A2>?',\n",
       "     ['past', 3, 'singular'],\n",
       "     ['participle', 3, 'singular']],\n",
       "    ['What number represents the number of instances the user <A1> [R1] <A2>?',\n",
       "     ['past', 3, 'singular'],\n",
       "     ['participle', 3, 'singular']],\n",
       "    ['If a person counts how many times the user <A1> [R1] <A2>, what would the number be?',\n",
       "     ['past', 3, 'singular'],\n",
       "     ['participle', 3, 'singular']],\n",
       "    ['What is the quantity of instances in which the user <A1> [R1] <A2>?',\n",
       "     ['past', 3, 'singular'],\n",
       "     ['participle', 3, 'singular']],\n",
       "    ['Count how many times the user <A1> [R1] <A2>?',\n",
       "     ['past', 3, 'singular'],\n",
       "     ['participle', 3, 'singular']],\n",
       "    ['How should one quantify the number of instances that the user <A1> [R1] <A2>?',\n",
       "     ['past', 3, 'singular'],\n",
       "     ['participle', 3, 'singular']]]},\n",
       "  {'index': 5,\n",
       "   'texts': [['How many times does the user <A1> [R1] <A2> [C1] [R2] <A3> ?',\n",
       "     ['present', 3, 'singular'],\n",
       "     ['participle', 3, 'singular'],\n",
       "     ['participle', 3, 'singular']],\n",
       "    [\"What is the number of user's <A1> [R1] <A2> [C1] [R2] <A3>?\",\n",
       "     ['participle', 3, 'singular'],\n",
       "     ['participle', 3, 'singular'],\n",
       "     ['participle', 3, 'singular']],\n",
       "    ['The user <A1> [R1] <A2> [C1] [R2] <A3> how many times?',\n",
       "     ['past', 3, 'singular'],\n",
       "     ['participle', 3, 'singular'],\n",
       "     ['participle', 3, 'singular']],\n",
       "    ['How many times can you count the user <A1> [R1] <A2> [C1] [R2] <A3>?',\n",
       "     ['past', 3, 'singular'],\n",
       "     ['participle', 3, 'singular'],\n",
       "     ['participle', 3, 'singular']],\n",
       "    ['What number represents the number of instances the user <A1> [R1] <A2> [C1] [R2] <A3>?',\n",
       "     ['past', 3, 'singular'],\n",
       "     ['participle', 3, 'singular'],\n",
       "     ['participle', 3, 'singular']],\n",
       "    ['If a person counted how many times the user <A1> [R1] <A2> [C1] [R2] <A3>, what would the number be?',\n",
       "     ['past', 3, 'singular'],\n",
       "     ['participle', 3, 'singular'],\n",
       "     ['participle', 3, 'singular']],\n",
       "    ['What is the quantity of instances in which the user <A1> [R1] <A2> [C1] [R2] <A3>?',\n",
       "     ['past', 3, 'singular'],\n",
       "     ['participle', 3, 'singular'],\n",
       "     ['participle', 3, 'singular']],\n",
       "    ['Count how many times the user <A1> [R1] <A2> [C1] [R2] <A3>?',\n",
       "     ['past', 3, 'singular'],\n",
       "     ['participle', 3, 'singular'],\n",
       "     ['participle', 3, 'singular']],\n",
       "    ['How should one quantify the number of instances that the user <A1> [R1] <A2> [C1] [R2] <A3>?',\n",
       "     ['past', 3, 'singular'],\n",
       "     ['participle', 3, 'singular'],\n",
       "     ['participle', 3, 'singular']]]},\n",
       "  {'index': 6,\n",
       "   'texts': [['What does the user do [R1] <A1>?',\n",
       "     ['participle', 3, 'singular']],\n",
       "    ['What action does the user do [R1] <A1>?', ['participle', 3, 'singular']],\n",
       "    ['What characterizes what the user does [R1] <A1>?',\n",
       "     ['participle', 3, 'singular']],\n",
       "    ['What action characterizes the user’s activity [R1] <A1>?',\n",
       "     ['participle', 3, 'singular']]]},\n",
       "  {'index': 7,\n",
       "   'texts': [['What does the user do [R1] <A1> and [R2] <A2>?',\n",
       "     ['participle', 3, 'singular'],\n",
       "     ['participle', 3, 'singular']],\n",
       "    ['What action does the user do [R1] <A1> and [R2] <A2>?',\n",
       "     ['participle', 3, 'singular'],\n",
       "     ['participle', 3, 'singular']],\n",
       "    ['What characterizes what the user does [R1] <A1> and [R2] <A2>?',\n",
       "     ['participle', 3, 'singular'],\n",
       "     ['participle', 3, 'singular']],\n",
       "    ['What action characterizes the user’s activity [R1] <A1> and [R2] <A2>?',\n",
       "     ['participle', 3, 'singular'],\n",
       "     ['participle', 3, 'singular']]]},\n",
       "  {'index': 8,\n",
       "   'texts': [['Does the user perform the same action right before and after <A1>?',\n",
       "     ['participle', 3, 'singular']],\n",
       "    ['Does the user perform the same action right after and before <A1>?',\n",
       "     ['participle', 3, 'singular']],\n",
       "    ['The user performs the same action right before and after <A1>?',\n",
       "     ['participle', 3, 'singular']],\n",
       "    ['Is it correct to say that the user perform the same action right before and after <A1>?',\n",
       "     ['participle', 3, 'singular']],\n",
       "    ['Is it the case that the user performs the same action right before and after <A1>?',\n",
       "     ['participle', 3, 'singular']],\n",
       "    ['The user performs the same action right before and after <A1>?, correct?',\n",
       "     ['participle', 3, 'singular']],\n",
       "    ['Confirm if the user performs the same action right before and after <A1>?',\n",
       "     ['participle', 3, 'singular']],\n",
       "    ['Is it true that the user performs the same action right before and after <A1>?',\n",
       "     ['participle', 3, 'singular']]]},\n",
       "  {'index': 9,\n",
       "   'texts': [['Does the user perform the same action [R1] <A1> and [R2] <A2>?',\n",
       "     ['participle', 3, 'singular'],\n",
       "     ['participle', 3, 'singular']],\n",
       "    ['The user performs the same action [R1] <A1> and [R2] <A2>?',\n",
       "     ['participle', 3, 'singular'],\n",
       "     ['participle', 3, 'singular']],\n",
       "    ['Is it correct to say that the user performs the same action [R1] <A1> and [R2] <A2>?',\n",
       "     ['participle', 3, 'singular'],\n",
       "     ['participle', 3, 'singular']],\n",
       "    ['Is it the case that the user performs the same action [R1] <A1> and [R2] <A2>?',\n",
       "     ['participle', 3, 'singular'],\n",
       "     ['participle', 3, 'singular']],\n",
       "    ['The user performs the same action [R1] <A1> and [R2] <A2>?, correct?',\n",
       "     ['participle', 3, 'singular'],\n",
       "     ['participle', 3, 'singular']],\n",
       "    ['Confirm if the user performs the same action [R1] <A1> and [R2] <A2>?',\n",
       "     ['participle', 3, 'singular'],\n",
       "     ['participle', 3, 'singular']],\n",
       "    ['Is it true that the user performs the same action [R1] <A1> and [R2] <A2>?',\n",
       "     ['participle', 3, 'singular'],\n",
       "     ['participle', 3, 'singular']]]},\n",
       "  {'index': 10,\n",
       "   'texts': [['Does the user <A1> for the same times before and after <A2>?',\n",
       "     ['participle', 3, 'singular'],\n",
       "     ['participle', 3, 'singular']],\n",
       "    ['The user <A1> for the same times before and after <A2>?',\n",
       "     ['participle', 3, 'singular'],\n",
       "     ['participle', 3, 'singular']],\n",
       "    ['Is it correct to say that the user <A1> for the same times before and after <A2>?',\n",
       "     ['participle', 3, 'singular'],\n",
       "     ['participle', 3, 'singular']],\n",
       "    ['Is it the case that the user <A1> for the same times before and after <A2>?',\n",
       "     ['participle', 3, 'singular'],\n",
       "     ['participle', 3, 'singular']],\n",
       "    ['The user <A1> for the same times before and after <A2>, correct?',\n",
       "     ['participle', 3, 'singular'],\n",
       "     ['participle', 3, 'singular']],\n",
       "    ['Confirm if the user <A1> for the same times before and after <A2>?',\n",
       "     ['participle', 3, 'singular'],\n",
       "     ['participle', 3, 'singular']],\n",
       "    ['Is it true that the user <A1> for the same times before and after <A2>?',\n",
       "     ['participle', 3, 'singular'],\n",
       "     ['participle', 3, 'singular']]]},\n",
       "  {'index': 11,\n",
       "   'texts': [['Does the user <A1> more than <A2>?',\n",
       "     ['present', 3, 'singular'],\n",
       "     ['present', 3, 'singular']],\n",
       "    ['The user <A1> more than <A2>?',\n",
       "     ['present', 3, 'singular'],\n",
       "     ['present', 3, 'singular']],\n",
       "    ['Is it correct to say that the user <A1> more than <A2>?',\n",
       "     ['present', 3, 'singular'],\n",
       "     ['present', 3, 'singular']],\n",
       "    ['Is it the case that the user <A1> more than <A2>?',\n",
       "     ['present', 3, 'singular'],\n",
       "     ['present', 3, 'singular']],\n",
       "    ['The user <A1> more than <A2>, correct?',\n",
       "     ['present', 3, 'singular'],\n",
       "     ['present', 3, 'singular']],\n",
       "    ['Confirm if the user <A1> more than <A2>?',\n",
       "     ['present', 3, 'singular'],\n",
       "     ['present', 3, 'singular']],\n",
       "    ['Is it true that the user <A1> more than <A2>?',\n",
       "     ['present', 3, 'singular'],\n",
       "     ['present', 3, 'singular']]]},\n",
       "  {'index': 12,\n",
       "   'texts': [['What does the user do While he <A1>?',\n",
       "     ['present', 3, 'singular']],\n",
       "    ['What action does the user perform While he <A1>',\n",
       "     ['present', 3, 'singular']],\n",
       "    ['What is the user doing while he <A1>?', ['present', 3, 'singular']],\n",
       "    ['What action is the user doing while he <A1>?',\n",
       "     ['present', 3, 'singular']],\n",
       "    ['What is the user performing while he <A1>?', ['present', 3, 'singular']],\n",
       "    ['What action characterizes the user’s activity while he <A1>?',\n",
       "     ['present', 3, 'singular']]]},\n",
       "  {'index': 13,\n",
       "   'texts': [['How many times does the user <A1> While he <A2>?',\n",
       "     ['present', 3, 'singular'],\n",
       "     ['present', 3, 'singular']],\n",
       "    ['While he <A2>, How many times does the user <A1>?',\n",
       "     ['present', 3, 'singular'],\n",
       "     ['present', 3, 'singular']],\n",
       "    [\"What is the number of the user's <A1> While he <A2>?\",\n",
       "     ['present', 3, 'singular'],\n",
       "     ['present', 3, 'singular']],\n",
       "    ['The user <A1> how many times While he <A2>?',\n",
       "     ['present', 3, 'singular'],\n",
       "     ['present', 3, 'singular']],\n",
       "    ['How many times can you count the user <A1> While he <A2>?',\n",
       "     ['present', 3, 'singular'],\n",
       "     ['present', 3, 'singular']],\n",
       "    ['What number represents the number of instances the user <A1> While he <A2>?',\n",
       "     ['present', 3, 'singular'],\n",
       "     ['present', 3, 'singular']],\n",
       "    ['If a person counts how many times the user <A1> While he <A2>?, what would the number be?',\n",
       "     ['present', 3, 'singular'],\n",
       "     ['present', 3, 'singular']],\n",
       "    ['What is the quantity of instances in which the user <A1> While he <A2>?',\n",
       "     ['present', 3, 'singular'],\n",
       "     ['present', 3, 'singular']],\n",
       "    ['Count how many times the user <A1> While he <A2>?',\n",
       "     ['present', 3, 'singular'],\n",
       "     ['present', 3, 'singular']],\n",
       "    ['How should one quantify the number of instances that the user <A1> While he <A2>?',\n",
       "     ['present', 3, 'singular'],\n",
       "     ['present', 3, 'singular']]]},\n",
       "  {'index': 14,\n",
       "   'texts': [['How long does the user <A1>?', ['present', 3, 'singular']],\n",
       "    ['What is the total length the user <A1>', ['participle', 3, 'singular']],\n",
       "    ['How much time goes by while the user <A1>?', ['present', 3, 'singular']],\n",
       "    ['Quantify the length of the time in which the user <A1>?',\n",
       "     ['present', 3, 'singular']],\n",
       "    ['What is the duration in which the user <A1>?',\n",
       "     ['present', 3, 'singular']]]},\n",
       "  {'index': 15,\n",
       "   'texts': [['How long does the user <A1> [R1] <A2>?',\n",
       "     ['present', 3, 'singular'],\n",
       "     ['participle', 3, 'singular']],\n",
       "    ['What is the total length the user <A1> [R1] <A2>',\n",
       "     ['present', 3, 'singular'],\n",
       "     ['participle', 3, 'singular']],\n",
       "    ['How much time goes by while the user <A1> [R1] <A2>?',\n",
       "     ['present', 3, 'singular'],\n",
       "     ['participle', 3, 'singular']],\n",
       "    ['Quantify the length of the time in which the user <A1> [R1] <A2>?',\n",
       "     ['present', 3, 'singular'],\n",
       "     ['participle', 3, 'singular']],\n",
       "    ['What is the duration in which the user <A1> [R1] <A2>?',\n",
       "     ['present', 3, 'singular'],\n",
       "     ['participle', 3, 'singular']]]}]}"
      ]
     },
     "execution_count": 23,
     "metadata": {},
     "output_type": "execute_result"
    }
   ],
   "source": [
    "# reading JSON file\n",
    "\n",
    "import json\n",
    "\n",
    "with open('question_family.json') as json_file:\n",
    "    load_data = json.load(json_file)\n",
    "    \n",
    "load_data"
   ]
  },
  {
   "cell_type": "code",
   "execution_count": null,
   "metadata": {},
   "outputs": [],
   "source": []
  },
  {
   "cell_type": "code",
   "execution_count": null,
   "metadata": {},
   "outputs": [],
   "source": []
  },
  {
   "cell_type": "markdown",
   "metadata": {},
   "source": [
    "# Analyze the question families"
   ]
  },
  {
   "cell_type": "code",
   "execution_count": 24,
   "metadata": {},
   "outputs": [],
   "source": [
    "import pandas as pd"
   ]
  },
  {
   "cell_type": "code",
   "execution_count": 25,
   "metadata": {
    "scrolled": false
   },
   "outputs": [],
   "source": [
    "df_questions = pd.DataFrame.from_dict(load_data['questions'])"
   ]
  },
  {
   "cell_type": "code",
   "execution_count": 26,
   "metadata": {},
   "outputs": [
    {
     "name": "stdout",
     "output_type": "stream",
     "text": [
      "Index: 0\t Question numbers: 8\t\n",
      "Index: 1\t Question numbers: 9\t\n",
      "Index: 2\t Question numbers: 7\t\n",
      "Index: 3\t Question numbers: 7\t\n",
      "Index: 4\t Question numbers: 9\t\n",
      "Index: 5\t Question numbers: 9\t\n",
      "Index: 6\t Question numbers: 4\t\n",
      "Index: 7\t Question numbers: 4\t\n",
      "Index: 8\t Question numbers: 8\t\n",
      "Index: 9\t Question numbers: 7\t\n",
      "Index: 10\t Question numbers: 7\t\n",
      "Index: 11\t Question numbers: 7\t\n",
      "Index: 12\t Question numbers: 6\t\n",
      "Index: 13\t Question numbers: 10\t\n",
      "Index: 14\t Question numbers: 5\t\n",
      "Index: 15\t Question numbers: 5\t\n"
     ]
    }
   ],
   "source": [
    "for qf_i in load_data['questions']:\n",
    "    print('Index: %d\\t Question numbers: %d\\t'%(qf_i['index'], len(qf_i['texts']) ) )"
   ]
  },
  {
   "cell_type": "code",
   "execution_count": 27,
   "metadata": {},
   "outputs": [
    {
     "data": {
      "text/plain": [
       "{'index': 15,\n",
       " 'texts': [['How long does the user <A1> [R1] <A2>?',\n",
       "   ['present', 3, 'singular'],\n",
       "   ['participle', 3, 'singular']],\n",
       "  ['What is the total length the user <A1> [R1] <A2>',\n",
       "   ['present', 3, 'singular'],\n",
       "   ['participle', 3, 'singular']],\n",
       "  ['How much time goes by while the user <A1> [R1] <A2>?',\n",
       "   ['present', 3, 'singular'],\n",
       "   ['participle', 3, 'singular']],\n",
       "  ['Quantify the length of the time in which the user <A1> [R1] <A2>?',\n",
       "   ['present', 3, 'singular'],\n",
       "   ['participle', 3, 'singular']],\n",
       "  ['What is the duration in which the user <A1> [R1] <A2>?',\n",
       "   ['present', 3, 'singular'],\n",
       "   ['participle', 3, 'singular']]]}"
      ]
     },
     "execution_count": 27,
     "metadata": {},
     "output_type": "execute_result"
    }
   ],
   "source": [
    "qf_i"
   ]
  },
  {
   "cell_type": "code",
   "execution_count": null,
   "metadata": {},
   "outputs": [],
   "source": []
  },
  {
   "cell_type": "code",
   "execution_count": null,
   "metadata": {},
   "outputs": [],
   "source": []
  }
 ],
 "metadata": {
  "kernelspec": {
   "display_name": "Python 3",
   "language": "python",
   "name": "python3"
  },
  "language_info": {
   "codemirror_mode": {
    "name": "ipython",
    "version": 3
   },
   "file_extension": ".py",
   "mimetype": "text/x-python",
   "name": "python",
   "nbconvert_exporter": "python",
   "pygments_lexer": "ipython3",
   "version": "3.7.6"
  }
 },
 "nbformat": 4,
 "nbformat_minor": 2
}
